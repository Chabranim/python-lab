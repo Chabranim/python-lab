{
 "cells": [
  {
   "cell_type": "markdown",
   "metadata": {
    "id": "p65URGvtaCO0"
   },
   "source": [
    "## Student Information\n",
    "- 64130500114\n",
    "- Arissara Sanyaboot\n",
    "- Group 2"
   ]
  },
  {
   "cell_type": "code",
   "execution_count": 1,
   "metadata": {},
   "outputs": [],
   "source": [
    "x=5"
   ]
  },
  {
   "cell_type": "code",
   "execution_count": 3,
   "metadata": {},
   "outputs": [
    {
     "name": "stdout",
     "output_type": "stream",
     "text": [
      "5\n"
     ]
    }
   ],
   "source": [
    "print(x)"
   ]
  },
  {
   "cell_type": "markdown",
   "metadata": {
    "id": "RE7kmBXL2Wra"
   },
   "source": [
    "## **Intro. Python for Math/DS**\n",
    "\n",
    "- Basic data type in Python\n",
    "- Vector/Matrix Operation\n",
    "- Eigenvector/Eigenvalue + PCA + Eigenface"
   ]
  },
  {
   "cell_type": "markdown",
   "metadata": {
    "id": "ikCZPHt-3gOu"
   },
   "source": [
    "### Basic data types"
   ]
  },
  {
   "cell_type": "markdown",
   "metadata": {
    "id": "atXs32vh3nrF"
   },
   "source": [
    "#### List  \n",
    "\n",
    "อยู่ระหว่าง [ ] คั่นด้วย ,"
   ]
  },
  {
   "cell_type": "code",
   "execution_count": 8,
   "metadata": {},
   "outputs": [
    {
     "data": {
      "text/plain": [
       "['apple', 'orange', 'banana']"
      ]
     },
     "execution_count": 8,
     "metadata": {},
     "output_type": "execute_result"
    }
   ],
   "source": [
    "a=['apple','orange']\n",
    "b=['banana']\n",
    "a+b"
   ]
  },
  {
   "cell_type": "code",
   "execution_count": 5,
   "metadata": {
    "id": "qRT-Wqi11iqd"
   },
   "outputs": [],
   "source": [
    "x = [1,2,3]\n",
    "y = [4,5,6]"
   ]
  },
  {
   "cell_type": "code",
   "execution_count": 6,
   "metadata": {},
   "outputs": [],
   "source": [
    "z=x+y"
   ]
  },
  {
   "cell_type": "code",
   "execution_count": 7,
   "metadata": {
    "colab": {
     "base_uri": "https://localhost:8080/"
    },
    "executionInfo": {
     "elapsed": 453,
     "status": "ok",
     "timestamp": 1664247560535,
     "user": {
      "displayName": "NIWAN WATTANAKITRUNGROJ",
      "userId": "04851413051165022286"
     },
     "user_tz": -420
    },
    "id": "aC1SL-gg4b0d",
    "outputId": "81532b4a-b391-408b-e92b-7d5470031bfa"
   },
   "outputs": [
    {
     "data": {
      "text/plain": [
       "[1, 2, 3, 4, 5, 6]"
      ]
     },
     "execution_count": 7,
     "metadata": {},
     "output_type": "execute_result"
    }
   ],
   "source": [
    "z = x + y\n",
    "z"
   ]
  },
  {
   "cell_type": "code",
   "execution_count": 11,
   "metadata": {},
   "outputs": [
    {
     "data": {
      "text/plain": [
       "[2]"
      ]
     },
     "execution_count": 11,
     "metadata": {},
     "output_type": "execute_result"
    }
   ],
   "source": [
    "z[1:2]"
   ]
  },
  {
   "cell_type": "code",
   "execution_count": 9,
   "metadata": {
    "colab": {
     "base_uri": "https://localhost:8080/"
    },
    "executionInfo": {
     "elapsed": 2,
     "status": "ok",
     "timestamp": 1664247661387,
     "user": {
      "displayName": "NIWAN WATTANAKITRUNGROJ",
      "userId": "04851413051165022286"
     },
     "user_tz": -420
    },
    "id": "7tQhmSge4jrt",
    "outputId": "b5f1fa67-638f-444d-8f8b-283cefe70bfe"
   },
   "outputs": [
    {
     "data": {
      "text/plain": [
       "[1, 2, 3]"
      ]
     },
     "execution_count": 9,
     "metadata": {},
     "output_type": "execute_result"
    }
   ],
   "source": [
    "z[:3] # z[0:3]"
   ]
  },
  {
   "cell_type": "code",
   "execution_count": 12,
   "metadata": {
    "colab": {
     "base_uri": "https://localhost:8080/"
    },
    "executionInfo": {
     "elapsed": 474,
     "status": "ok",
     "timestamp": 1664247689676,
     "user": {
      "displayName": "NIWAN WATTANAKITRUNGROJ",
      "userId": "04851413051165022286"
     },
     "user_tz": -420
    },
    "id": "vyFtkgbq5CIB",
    "outputId": "2ae645b3-60d7-45b6-f334-10b689fa72af"
   },
   "outputs": [
    {
     "data": {
      "text/plain": [
       "[1, 2, 3, 4]"
      ]
     },
     "execution_count": 12,
     "metadata": {},
     "output_type": "execute_result"
    }
   ],
   "source": [
    "z[:-2]"
   ]
  },
  {
   "cell_type": "code",
   "execution_count": 13,
   "metadata": {
    "colab": {
     "base_uri": "https://localhost:8080/"
    },
    "executionInfo": {
     "elapsed": 459,
     "status": "ok",
     "timestamp": 1664247409586,
     "user": {
      "displayName": "NIWAN WATTANAKITRUNGROJ",
      "userId": "04851413051165022286"
     },
     "user_tz": -420
    },
    "id": "sStGuSkp4A-6",
    "outputId": "54214285-2640-4985-f261-d7b72382b19c"
   },
   "outputs": [
    {
     "data": {
      "text/plain": [
       "[1, 2, 3, 4, 5, 6]"
      ]
     },
     "execution_count": 13,
     "metadata": {},
     "output_type": "execute_result"
    }
   ],
   "source": [
    "x + y"
   ]
  },
  {
   "cell_type": "code",
   "execution_count": 14,
   "metadata": {
    "id": "VJKdSVkh4CPr"
   },
   "outputs": [],
   "source": [
    "a = ['pen','apple','asd']\n",
    "b = ['student']"
   ]
  },
  {
   "cell_type": "code",
   "execution_count": 15,
   "metadata": {
    "colab": {
     "base_uri": "https://localhost:8080/"
    },
    "executionInfo": {
     "elapsed": 3,
     "status": "ok",
     "timestamp": 1664247474334,
     "user": {
      "displayName": "NIWAN WATTANAKITRUNGROJ",
      "userId": "04851413051165022286"
     },
     "user_tz": -420
    },
    "id": "uf69nKQk4Q1c",
    "outputId": "8db63c40-320c-42d3-c7e6-070af02a7416"
   },
   "outputs": [
    {
     "data": {
      "text/plain": [
       "['pen', 'apple', 'asd', 'student']"
      ]
     },
     "execution_count": 15,
     "metadata": {},
     "output_type": "execute_result"
    }
   ],
   "source": [
    "a + b"
   ]
  },
  {
   "cell_type": "markdown",
   "metadata": {
    "id": "F9K1SFu-5ZKt"
   },
   "source": [
    "#### Tuples\n",
    "- อยู่ระหว่าง ( ) คั่นด้วย , \n",
    "- ไม่สามารถเปลี่ยนค่าตัวแปลได้"
   ]
  },
  {
   "cell_type": "code",
   "execution_count": 25,
   "metadata": {
    "id": "lHfnrNJb4SMH"
   },
   "outputs": [],
   "source": [
    "s = (100,120)"
   ]
  },
  {
   "cell_type": "code",
   "execution_count": 26,
   "metadata": {
    "id": "XWBlq5co5u6F"
   },
   "outputs": [
    {
     "ename": "TypeError",
     "evalue": "'tuple' object does not support item assignment",
     "output_type": "error",
     "traceback": [
      "\u001b[1;31m---------------------------------------------------------------------------\u001b[0m",
      "\u001b[1;31mTypeError\u001b[0m                                 Traceback (most recent call last)",
      "Cell \u001b[1;32mIn[26], line 1\u001b[0m\n\u001b[1;32m----> 1\u001b[0m s[\u001b[39m0\u001b[39;49m] \u001b[39m=\u001b[39m \u001b[39m150\u001b[39m  \u001b[39m#รันไม่ผ่าน เพราะ tuple เปลี่ยนค่าไม่ได้ \u001b[39;00m\n",
      "\u001b[1;31mTypeError\u001b[0m: 'tuple' object does not support item assignment"
     ]
    }
   ],
   "source": [
    "s[0] = 150  #รันไม่ผ่าน เพราะ tuple เปลี่ยนค่าไม่ได้ "
   ]
  },
  {
   "cell_type": "code",
   "execution_count": 21,
   "metadata": {
    "colab": {
     "base_uri": "https://localhost:8080/"
    },
    "executionInfo": {
     "elapsed": 4,
     "status": "ok",
     "timestamp": 1664247989628,
     "user": {
      "displayName": "NIWAN WATTANAKITRUNGROJ",
      "userId": "04851413051165022286"
     },
     "user_tz": -420
    },
    "id": "OcihdZzh5xLZ",
    "outputId": "6ccba8cc-6d89-4f4c-e28d-2f753bea834d"
   },
   "outputs": [
    {
     "data": {
      "text/plain": [
       "[150, 120]"
      ]
     },
     "execution_count": 21,
     "metadata": {},
     "output_type": "execute_result"
    }
   ],
   "source": [
    "#list\n",
    "t = [100,120]\n",
    "t[0] = 150 \n",
    "t"
   ]
  },
  {
   "cell_type": "code",
   "execution_count": 22,
   "metadata": {},
   "outputs": [
    {
     "data": {
      "text/plain": [
       "[150, 120]"
      ]
     },
     "execution_count": 22,
     "metadata": {},
     "output_type": "execute_result"
    }
   ],
   "source": [
    "t"
   ]
  },
  {
   "cell_type": "markdown",
   "metadata": {
    "id": "d-KtzP726fj7"
   },
   "source": [
    "#### Set\n",
    "\n",
    "- อยู่ระหว่าง {}  คั่นด้วย ,"
   ]
  },
  {
   "cell_type": "code",
   "execution_count": 23,
   "metadata": {
    "id": "Gy0vJk7c6P-v"
   },
   "outputs": [],
   "source": [
    "a = {1,2,3,3}"
   ]
  },
  {
   "cell_type": "code",
   "execution_count": 24,
   "metadata": {
    "colab": {
     "base_uri": "https://localhost:8080/"
    },
    "executionInfo": {
     "elapsed": 2,
     "status": "ok",
     "timestamp": 1664248102432,
     "user": {
      "displayName": "NIWAN WATTANAKITRUNGROJ",
      "userId": "04851413051165022286"
     },
     "user_tz": -420
    },
    "id": "AqcVu-pl6qno",
    "outputId": "f38c3f5d-0955-410e-f3e5-3456e1c8bd63"
   },
   "outputs": [
    {
     "data": {
      "text/plain": [
       "{1, 2, 3}"
      ]
     },
     "execution_count": 24,
     "metadata": {},
     "output_type": "execute_result"
    }
   ],
   "source": [
    "a"
   ]
  },
  {
   "cell_type": "markdown",
   "metadata": {
    "id": "sdtBuoQ564JN"
   },
   "source": [
    "#### Dectionary \n",
    "\n",
    "- syntax  {'key1':val1, 'key2':value}"
   ]
  },
  {
   "cell_type": "code",
   "execution_count": 27,
   "metadata": {
    "id": "RvyVzNoh6_81"
   },
   "outputs": [],
   "source": [
    "product1 = {'name':\"pencil\", 'price':25}"
   ]
  },
  {
   "cell_type": "code",
   "execution_count": 28,
   "metadata": {
    "colab": {
     "base_uri": "https://localhost:8080/",
     "height": 35
    },
    "executionInfo": {
     "elapsed": 8,
     "status": "ok",
     "timestamp": 1664248333672,
     "user": {
      "displayName": "NIWAN WATTANAKITRUNGROJ",
      "userId": "04851413051165022286"
     },
     "user_tz": -420
    },
    "id": "caLJ10x96v9t",
    "outputId": "7540c982-93f4-4862-ff44-2db816bb0eff"
   },
   "outputs": [
    {
     "data": {
      "text/plain": [
       "'pencil'"
      ]
     },
     "execution_count": 28,
     "metadata": {},
     "output_type": "execute_result"
    }
   ],
   "source": [
    "product1['name']"
   ]
  },
  {
   "cell_type": "code",
   "execution_count": 29,
   "metadata": {
    "colab": {
     "base_uri": "https://localhost:8080/"
    },
    "executionInfo": {
     "elapsed": 2,
     "status": "ok",
     "timestamp": 1664248359757,
     "user": {
      "displayName": "NIWAN WATTANAKITRUNGROJ",
      "userId": "04851413051165022286"
     },
     "user_tz": -420
    },
    "id": "XVCuFN2t7j_0",
    "outputId": "f1018c00-0bb2-440c-8845-6fc25a9fa85a"
   },
   "outputs": [
    {
     "data": {
      "text/plain": [
       "25"
      ]
     },
     "execution_count": 29,
     "metadata": {},
     "output_type": "execute_result"
    }
   ],
   "source": [
    "product1['price']"
   ]
  },
  {
   "cell_type": "markdown",
   "metadata": {
    "id": "LH3cb-qX7wVX"
   },
   "source": [
    "### Control Statement"
   ]
  },
  {
   "cell_type": "code",
   "execution_count": 30,
   "metadata": {
    "colab": {
     "base_uri": "https://localhost:8080/"
    },
    "executionInfo": {
     "elapsed": 3,
     "status": "ok",
     "timestamp": 1664248515594,
     "user": {
      "displayName": "NIWAN WATTANAKITRUNGROJ",
      "userId": "04851413051165022286"
     },
     "user_tz": -420
    },
    "id": "-aS52d7j7qPJ",
    "outputId": "8148a333-4cde-42ed-a304-a72aa015b83a"
   },
   "outputs": [
    {
     "name": "stdout",
     "output_type": "stream",
     "text": [
      "3\n",
      "7\n",
      "9\n"
     ]
    }
   ],
   "source": [
    "numbers = [3,7,9]\n",
    "for i in numbers:\n",
    "    print(i)"
   ]
  },
  {
   "cell_type": "code",
   "execution_count": 31,
   "metadata": {
    "colab": {
     "base_uri": "https://localhost:8080/"
    },
    "executionInfo": {
     "elapsed": 417,
     "status": "ok",
     "timestamp": 1664248627832,
     "user": {
      "displayName": "NIWAN WATTANAKITRUNGROJ",
      "userId": "04851413051165022286"
     },
     "user_tz": -420
    },
    "id": "zOgBt06k8Fnw",
    "outputId": "64758bc7-d1a1-41ff-9ecb-2332e46d8c87"
   },
   "outputs": [
    {
     "name": "stdout",
     "output_type": "stream",
     "text": [
      "1\n",
      "3\n",
      "5\n",
      "7\n",
      "9\n"
     ]
    }
   ],
   "source": [
    "for i in range(1,10,2):\n",
    "    print(i)"
   ]
  },
  {
   "cell_type": "code",
   "execution_count": 32,
   "metadata": {
    "colab": {
     "base_uri": "https://localhost:8080/"
    },
    "executionInfo": {
     "elapsed": 455,
     "status": "ok",
     "timestamp": 1664248808102,
     "user": {
      "displayName": "NIWAN WATTANAKITRUNGROJ",
      "userId": "04851413051165022286"
     },
     "user_tz": -420
    },
    "id": "daIytAYq8eJj",
    "outputId": "c11e699f-52fd-4095-c3d3-c8522c06e2ff"
   },
   "outputs": [
    {
     "name": "stdout",
     "output_type": "stream",
     "text": [
      "Hello\n",
      "Hello\n"
     ]
    }
   ],
   "source": [
    "a = 5\n",
    "while a > 3:\n",
    "    print('Hello')\n",
    "    a = a-1"
   ]
  },
  {
   "cell_type": "markdown",
   "metadata": {
    "id": "cEL_aFKD9dKj"
   },
   "source": [
    "### Numpy"
   ]
  },
  {
   "cell_type": "code",
   "execution_count": 33,
   "metadata": {
    "colab": {
     "base_uri": "https://localhost:8080/"
    },
    "executionInfo": {
     "elapsed": 4,
     "status": "ok",
     "timestamp": 1664249238086,
     "user": {
      "displayName": "NIWAN WATTANAKITRUNGROJ",
      "userId": "04851413051165022286"
     },
     "user_tz": -420
    },
    "id": "ch8YJe7J87yY",
    "outputId": "fb988237-3213-46c4-87d8-b705cf7a572a"
   },
   "outputs": [
    {
     "data": {
      "text/plain": [
       "array([5, 7, 9])"
      ]
     },
     "execution_count": 33,
     "metadata": {},
     "output_type": "execute_result"
    }
   ],
   "source": [
    "import numpy as np\n",
    "\n",
    "#x = [1,2,3]\n",
    "#y = [4,5,6]\n",
    "#z = x+y\n",
    "\n",
    "x = np.array([1,2,3])\n",
    "y = np.array([4,5,6])\n",
    "z = x + y\n",
    "z"
   ]
  },
  {
   "cell_type": "markdown",
   "metadata": {
    "id": "6UfKLi0J_VqL"
   },
   "source": [
    "## Vector"
   ]
  },
  {
   "cell_type": "markdown",
   "metadata": {},
   "source": [
    "\n",
    "$ x = \\begin{bmatrix} 1 \\\\ 2 \\\\ 3 \\\\ 4 \\end{bmatrix},  \n",
    " y = \\begin{bmatrix} 6 \\\\ 7 \\\\ 8 \\\\ 9 \\end{bmatrix} $\n",
    "\n"
   ]
  },
  {
   "cell_type": "code",
   "execution_count": 34,
   "metadata": {
    "colab": {
     "base_uri": "https://localhost:8080/"
    },
    "executionInfo": {
     "elapsed": 4,
     "status": "ok",
     "timestamp": 1664249524276,
     "user": {
      "displayName": "NIWAN WATTANAKITRUNGROJ",
      "userId": "04851413051165022286"
     },
     "user_tz": -420
    },
    "id": "Vhk4Kmws-pKW",
    "outputId": "c2f2b117-133a-4420-e221-c5467b1c6525",
    "tags": []
   },
   "outputs": [
    {
     "data": {
      "text/plain": [
       "array([ 7,  9, 11, 13])"
      ]
     },
     "execution_count": 34,
     "metadata": {},
     "output_type": "execute_result"
    }
   ],
   "source": [
    "import numpy as np\n",
    "\n",
    "#vector\n",
    "x = np.array([1,2,3,4])\n",
    "y = np.array([6,7,8,9])\n",
    "x + y"
   ]
  },
  {
   "cell_type": "code",
   "execution_count": 43,
   "metadata": {
    "tags": []
   },
   "outputs": [],
   "source": [
    "# Reshape x,y to be a column vector\n",
    "x = x.reshape((-1, 1))\n",
    "y = y.reshape((-1, 1))"
   ]
  },
  {
   "cell_type": "code",
   "execution_count": 45,
   "metadata": {},
   "outputs": [
    {
     "data": {
      "text/plain": [
       "(4, 1)"
      ]
     },
     "execution_count": 45,
     "metadata": {},
     "output_type": "execute_result"
    }
   ],
   "source": [
    "x.shape"
   ]
  },
  {
   "cell_type": "code",
   "execution_count": 46,
   "metadata": {},
   "outputs": [
    {
     "data": {
      "text/plain": [
       "array([[1],\n",
       "       [2],\n",
       "       [3],\n",
       "       [4]])"
      ]
     },
     "execution_count": 46,
     "metadata": {},
     "output_type": "execute_result"
    }
   ],
   "source": [
    "x.reshape((-1,1))"
   ]
  },
  {
   "cell_type": "code",
   "execution_count": 47,
   "metadata": {},
   "outputs": [
    {
     "data": {
      "text/plain": [
       "(4, 1)"
      ]
     },
     "execution_count": 47,
     "metadata": {},
     "output_type": "execute_result"
    }
   ],
   "source": [
    "y.shape"
   ]
  },
  {
   "cell_type": "code",
   "execution_count": 48,
   "metadata": {},
   "outputs": [
    {
     "data": {
      "text/plain": [
       "5.477225575051661"
      ]
     },
     "execution_count": 48,
     "metadata": {},
     "output_type": "execute_result"
    }
   ],
   "source": [
    "np.linalg.norm(x)"
   ]
  },
  {
   "cell_type": "code",
   "execution_count": 36,
   "metadata": {
    "tags": []
   },
   "outputs": [
    {
     "name": "stdout",
     "output_type": "stream",
     "text": [
      "Euclidean norm of x: 5.477225575051661\n",
      "Euclidean norm of y: 15.165750888103101\n",
      "Manhattan norm of x: 10.0\n",
      "Manhattan norm of y: 30.0\n",
      "Infinity norm of x: 4.0\n",
      "Infinity norm of y: 9.0\n"
     ]
    }
   ],
   "source": [
    "# Calculate Euclidean norm\n",
    "euclidean_norm_x = np.linalg.norm(x)\n",
    "euclidean_norm_y = np.linalg.norm(y)\n",
    "\n",
    "# Calculate Manhattan norm (L1 norm)\n",
    "manhattan_norm_x = np.linalg.norm(x, ord=1)\n",
    "manhattan_norm_y = np.linalg.norm(y, ord=1)\n",
    "\n",
    "# Calculate infinity norm (L∞ norm)\n",
    "infinity_norm_x = np.linalg.norm(x, ord=np.inf)\n",
    "infinity_norm_y = np.linalg.norm(y, ord=np.inf)\n",
    "\n",
    "print(\"Euclidean norm of x:\", euclidean_norm_x)\n",
    "print(\"Euclidean norm of y:\", euclidean_norm_y)\n",
    "print(\"Manhattan norm of x:\", manhattan_norm_x)\n",
    "print(\"Manhattan norm of y:\", manhattan_norm_y)\n",
    "print(\"Infinity norm of x:\", infinity_norm_x)\n",
    "print(\"Infinity norm of y:\", infinity_norm_y)"
   ]
  },
  {
   "cell_type": "markdown",
   "metadata": {},
   "source": [
    "**Example 1:**\n",
    "Calculate the **Euclidean norm** (2-norm) of the vector $\\mathbf{v} = \\begin{bmatrix} 3 \\\\ -4 \\\\ 5 \\end{bmatrix}$."
   ]
  },
  {
   "cell_type": "code",
   "execution_count": 37,
   "metadata": {
    "tags": []
   },
   "outputs": [
    {
     "data": {
      "text/plain": [
       "7.0710678118654755"
      ]
     },
     "execution_count": 37,
     "metadata": {},
     "output_type": "execute_result"
    }
   ],
   "source": [
    "v = np.array([3,-4,5])\n",
    "v = v.reshape((-1, 1))\n",
    "np.linalg.norm(v)"
   ]
  },
  {
   "cell_type": "markdown",
   "metadata": {},
   "source": [
    "**Example 2:**\n",
    "Find the **Manhattan norm** (1-norm) of the vector $\\mathbf{u} = \\begin{bmatrix} 2 \\\\ -1 \\\\ 3 \\end{bmatrix}$."
   ]
  },
  {
   "cell_type": "code",
   "execution_count": 49,
   "metadata": {},
   "outputs": [
    {
     "data": {
      "text/plain": [
       "6.0"
      ]
     },
     "execution_count": 49,
     "metadata": {},
     "output_type": "execute_result"
    }
   ],
   "source": [
    "u=np.array([2,-1,3])\n",
    "u=u.reshape((-1,1))\n",
    "np.linalg.norm(u,ord=1)"
   ]
  },
  {
   "cell_type": "markdown",
   "metadata": {},
   "source": [
    "**Example 3:**\n",
    "Calculate the **infinity norm** ($\\infty$-norm) of the vector $\\mathbf{w} = \\begin{bmatrix} 1 \\\\ -7 \\\\ 4 \\end{bmatrix}$."
   ]
  },
  {
   "cell_type": "code",
   "execution_count": 51,
   "metadata": {},
   "outputs": [
    {
     "data": {
      "text/plain": [
       "3.0"
      ]
     },
     "execution_count": 51,
     "metadata": {},
     "output_type": "execute_result"
    }
   ],
   "source": [
    "w=np.array([1,-7,4])\n",
    "w=u.reshape((-1,1))\n",
    "np.linalg.norm(w,ord=np.inf)"
   ]
  },
  {
   "cell_type": "markdown",
   "metadata": {},
   "source": [
    "**Example 4:**\n",
    "Given two vectors $\\mathbf{a} = \\begin{bmatrix} 2 \\\\ 5 \\end{bmatrix}$ and $\\mathbf{b} = \\begin{bmatrix} -3 \\\\ 1 \\end{bmatrix}$, find the **Euclidean distance** between them.\n"
   ]
  },
  {
   "cell_type": "code",
   "execution_count": 54,
   "metadata": {
    "tags": []
   },
   "outputs": [
    {
     "name": "stdout",
     "output_type": "stream",
     "text": [
      "Euclidean distance between a and b: 6.4031242374328485\n"
     ]
    }
   ],
   "source": [
    "a = np.array([2,5])\n",
    "b = np.array([-3,1])\n",
    "a = a.reshape((-1,1))\n",
    "b = b.reshape((-1,1))\n",
    "\n",
    "euclidean_distance = np.linalg.norm(a - b)\n",
    "print(\"Euclidean distance between a and b:\", euclidean_distance)"
   ]
  },
  {
   "cell_type": "code",
   "execution_count": 60,
   "metadata": {},
   "outputs": [
    {
     "data": {
      "text/plain": [
       "6.4031242374328485"
      ]
     },
     "execution_count": 60,
     "metadata": {},
     "output_type": "execute_result"
    }
   ],
   "source": [
    "a = np.array([2,5]).reshape((-1,1))\n",
    "b = np.array([-3,1]).reshape((-1,1))\n",
    "np.linalg.norm(a-b)"
   ]
  },
  {
   "cell_type": "markdown",
   "metadata": {},
   "source": [
    "**Example 5:**\n",
    "Compute the **Manhattan distance** between vectors \n",
    " $\\mathbf{p} = \\begin{bmatrix} 1 \\\\ 0 \\\\ -2 \\end{bmatrix}$ and $\\mathbf{q} = \\begin{bmatrix} -3 \\\\ 2 \\\\ 1 \\end{bmatrix}$."
   ]
  },
  {
   "cell_type": "code",
   "execution_count": 58,
   "metadata": {},
   "outputs": [
    {
     "name": "stdout",
     "output_type": "stream",
     "text": [
      "Manhattan distance between p and q:  9.0\n"
     ]
    }
   ],
   "source": [
    "p = np.array([1,0,-2]).reshape((-1,1))\n",
    "q = np.array([-3,2,1]).reshape((-1,1))\n",
    "manhattan_distance = np.linalg.norm(p-q, ord=1)\n",
    "print(\"Manhattan distance between p and q: \", manhattan_distance)"
   ]
  },
  {
   "cell_type": "markdown",
   "metadata": {
    "tags": []
   },
   "source": [
    "**Example 6:**\n",
    "Find the **Chebyshev distance** (maximum norm) between vectors $\\mathbf{x} = \\begin{bmatrix} 2 \\\\ -4 \\\\ 7 \\end{bmatrix}$ and $\\mathbf{y} = \\begin{bmatrix} -1 \\\\ 6 \\\\ 3 \\end{bmatrix}$."
   ]
  },
  {
   "cell_type": "code",
   "execution_count": 61,
   "metadata": {},
   "outputs": [
    {
     "name": "stdout",
     "output_type": "stream",
     "text": [
      "Chebyshev_distance between x and y:  10.0\n"
     ]
    }
   ],
   "source": [
    "x = np.array([2,-4,7]).reshape((-1,1))\n",
    "y = np.array([-1,6,3]).reshape((-1,1))\n",
    "chebyshev_distance = np.linalg.norm(x-y, ord=np.inf)\n",
    "print(\"Chebyshev_distance between x and y: \", chebyshev_distance)"
   ]
  },
  {
   "cell_type": "markdown",
   "metadata": {},
   "source": [
    "### Unit vector"
   ]
  },
  {
   "cell_type": "markdown",
   "metadata": {},
   "source": [
    "**Example 1:**\n",
    "Find the unit vector in the direction of the vector $\\mathbf{v} = \\begin{bmatrix} 3 \\\\ -4 \\\\ 5 \\end{bmatrix}$."
   ]
  },
  {
   "cell_type": "code",
   "execution_count": 62,
   "metadata": {
    "tags": []
   },
   "outputs": [
    {
     "name": "stdout",
     "output_type": "stream",
     "text": [
      "Unit vector in the direction of v:\n",
      " [[ 0.42426407]\n",
      " [-0.56568542]\n",
      " [ 0.70710678]]\n"
     ]
    }
   ],
   "source": [
    "import numpy as np\n",
    "\n",
    "v = np.array([3, -4, 5])\n",
    "v = v.reshape((-1,1))\n",
    "\n",
    "# Calculate the Euclidean norm of vector v\n",
    "norm_v = np.linalg.norm(v)\n",
    "\n",
    "# Calculate the unit vector in the direction of v\n",
    "unit_vector = v / norm_v\n",
    "\n",
    "print(\"Unit vector in the direction of v:\\n\", unit_vector)\n"
   ]
  },
  {
   "cell_type": "markdown",
   "metadata": {},
   "source": [
    "**Example 2:**\n",
    "Define the unit vector in the direction of vector $\\mathbf{v} = \\begin{bmatrix} 3 \\\\ -4 \\\\ 0 \\end{bmatrix}$. \n"
   ]
  },
  {
   "cell_type": "code",
   "execution_count": 64,
   "metadata": {
    "tags": []
   },
   "outputs": [
    {
     "name": "stdout",
     "output_type": "stream",
     "text": [
      "Unit vector in the direction of v:\n",
      " [[ 0.6]\n",
      " [-0.8]\n",
      " [ 0. ]]\n"
     ]
    }
   ],
   "source": [
    "v = np.array([3,-4,0]).reshape((-1,1))\n",
    "norm_v = np.linalg.norm(v)\n",
    "unit_vector = v/norm_v\n",
    "print(\"Unit vector in the direction of v:\\n\",unit_vector)"
   ]
  },
  {
   "cell_type": "markdown",
   "metadata": {},
   "source": [
    "### Dot product"
   ]
  },
  {
   "cell_type": "markdown",
   "metadata": {},
   "source": [
    "**Example:** \n",
    "\n",
    "$ \\mathbf{u} = \n",
    "\\begin{bmatrix}\n",
    "1 \\\\2 \\\\ 3\n",
    "\\end{bmatrix},\n",
    "\\mathbf{v} = \n",
    "\\begin{bmatrix}\n",
    "4 \\\\ 5 \\\\ 6\n",
    "\\end{bmatrix} $\n",
    "\n",
    "$ \\langle\\mathbf{u}, \\mathbf{v}\\rangle = \\mathbf{u}\\cdot \\mathbf{v} = ? $"
   ]
  },
  {
   "cell_type": "code",
   "execution_count": 66,
   "metadata": {
    "tags": []
   },
   "outputs": [
    {
     "name": "stdout",
     "output_type": "stream",
     "text": [
      "Dot product of u and v: 32\n"
     ]
    }
   ],
   "source": [
    "import numpy as np\n",
    "u = np.array([1,2,3])\n",
    "v = np.array([4, 5, 6])\n",
    "\n",
    "#dot_product = np.dot(u, v)\n",
    "#np.matmul(u,v)\n",
    "\n",
    "dot_product = u@v\n",
    "print(\"Dot product of u and v:\", dot_product)"
   ]
  },
  {
   "cell_type": "code",
   "execution_count": 68,
   "metadata": {
    "tags": []
   },
   "outputs": [
    {
     "name": "stdout",
     "output_type": "stream",
     "text": [
      "Dot product of u and v: [[32]]\n"
     ]
    }
   ],
   "source": [
    "import numpy as np\n",
    "u = np.array([1,2,3])\n",
    "v = np.array([4,5,6])\n",
    "u = u.reshape((-1,1))\n",
    "v = v.reshape((-1,1))\n",
    "\n",
    "#dot_product = np.dot(u.T, v)\n",
    "dot_product = u.T@v\n",
    "print(\"Dot product of u and v:\", dot_product)"
   ]
  },
  {
   "cell_type": "markdown",
   "metadata": {},
   "source": [
    "**Example:** \n",
    "Given $ \\mathbf{a} = \\begin{bmatrix} 2 \\\\ -1 \\\\ 0 \\end{bmatrix}, \\mathbf{b} = \\begin{bmatrix} 1 \\\\ 2 \\\\ 4 \\end{bmatrix} $. Check whether a and b are orthogonal."
   ]
  },
  {
   "cell_type": "code",
   "execution_count": 69,
   "metadata": {
    "tags": []
   },
   "outputs": [
    {
     "name": "stdout",
     "output_type": "stream",
     "text": [
      "Dot product of u and v: [[0]]\n"
     ]
    }
   ],
   "source": [
    "import numpy as np\n",
    "u = np.array([2,-1,0])\n",
    "v = np.array([1, 2, 4])\n",
    "u = u.reshape((-1,1))\n",
    "v = v.reshape((-1,1))\n",
    "\n",
    "#dot_product = np.dot(u.T, v)\n",
    "dot_product = u.T@v\n",
    "print(\"Dot product of u and v:\", dot_product)"
   ]
  },
  {
   "cell_type": "markdown",
   "metadata": {},
   "source": [
    "Ans: The dot product of the vectors **a** and **b**  is 0. Thus, they are orthogonal."
   ]
  },
  {
   "cell_type": "code",
   "execution_count": null,
   "metadata": {},
   "outputs": [],
   "source": []
  },
  {
   "cell_type": "markdown",
   "metadata": {},
   "source": [
    "**Problem 8:**\n",
    "Given vectors $\\mathbf{p} = \\begin{bmatrix} 2 \\\\ -1 \\\\ 3 \\end{bmatrix}$ and $\\mathbf{q} = \\begin{bmatrix} 1 \\\\ 1 \\\\ 2 \\end{bmatrix}$, find\n",
    "the projection of $\\mathbf{p}$ onto $\\mathbf{q}$."
   ]
  },
  {
   "cell_type": "code",
   "execution_count": 70,
   "metadata": {
    "tags": []
   },
   "outputs": [
    {
     "name": "stdout",
     "output_type": "stream",
     "text": [
      "Projection of p onto q: [1.16666667 1.16666667 2.33333333]\n"
     ]
    }
   ],
   "source": [
    "import numpy as np\n",
    "\n",
    "p = np.array([2, -1, 3])\n",
    "q = np.array([1, 1, 2])\n",
    "\n",
    "# Calculate the dot product of p and q\n",
    "dot_product = np.dot(p, q)\n",
    "\n",
    "# Calculate the squared Euclidean norm of q\n",
    "norm_squared = np.linalg.norm(q) ** 2\n",
    "\n",
    "# Calculate the projection of p onto q\n",
    "projection = (dot_product / norm_squared) * q\n",
    "\n",
    "print(\"Projection of p onto q:\", projection)"
   ]
  },
  {
   "cell_type": "markdown",
   "metadata": {},
   "source": [
    "**Problem 9:**\n",
    "Find the projection of vector $\\mathbf{x} = \\begin{bmatrix} 1 \\\\ 0 \\\\ -1 \\end{bmatrix}$ onto the vector $\\mathbf{y} = \\begin{bmatrix} 2 \\\\ 1 \\\\ 2 \\end{bmatrix}$."
   ]
  },
  {
   "cell_type": "code",
   "execution_count": 71,
   "metadata": {},
   "outputs": [
    {
     "name": "stdout",
     "output_type": "stream",
     "text": [
      "Projection of p onto q: [0. 0. 0.]\n"
     ]
    }
   ],
   "source": [
    "import numpy as np\n",
    "\n",
    "p = np.array([1, 0, -1])\n",
    "q = np.array([2, 1, 2])\n",
    "\n",
    "# Calculate the dot product of p and q\n",
    "dot_product = np.dot(p, q)\n",
    "\n",
    "# Calculate the squared Euclidean norm of q\n",
    "norm_squared = np.linalg.norm(q) ** 2\n",
    "\n",
    "# Calculate the projection of p onto q\n",
    "projection = (dot_product / norm_squared) * q\n",
    "\n",
    "print(\"Projection of p onto q:\", projection)"
   ]
  },
  {
   "cell_type": "markdown",
   "metadata": {
    "tags": []
   },
   "source": [
    "**Problem 10:**\n",
    "Find the projection of vector $\\mathbf{u} = \\begin{bmatrix} 4 \\\\ -3 \\\\ 1 \\end{bmatrix}$ onto the vector $\\mathbf{v} = \\begin{bmatrix} 1 \\\\ 2 \\\\ -2 \\end{bmatrix}$."
   ]
  },
  {
   "cell_type": "code",
   "execution_count": 72,
   "metadata": {},
   "outputs": [
    {
     "name": "stdout",
     "output_type": "stream",
     "text": [
      "Projection of p onto q: [-0.44444444 -0.88888889  0.88888889]\n"
     ]
    }
   ],
   "source": [
    "import numpy as np\n",
    "\n",
    "p = np.array([4, -3, 1])\n",
    "q = np.array([1, 2, -2])\n",
    "\n",
    "# Calculate the dot product of p and q\n",
    "dot_product = np.dot(p, q)\n",
    "\n",
    "# Calculate the squared Euclidean norm of q\n",
    "norm_squared = np.linalg.norm(q) ** 2\n",
    "\n",
    "# Calculate the projection of p onto q\n",
    "projection = (dot_product / norm_squared) * q\n",
    "\n",
    "print(\"Projection of p onto q:\", projection)"
   ]
  },
  {
   "cell_type": "markdown",
   "metadata": {},
   "source": [
    "## Matrix"
   ]
  },
  {
   "cell_type": "markdown",
   "metadata": {},
   "source": [
    "\n",
    "$\n",
    "A = \\begin{bmatrix}\n",
    "1 & 2 & 3 \\\\\n",
    "4 & 5 & 6 \\\\\n",
    "7 & 8 & 9 \\\\\n",
    "\\end{bmatrix},     \n",
    "B = \\begin{bmatrix}\n",
    "10 & 20 & 30 \\\\\n",
    "11 & 12 & 13 \\\\\n",
    "\\end{bmatrix}\n",
    "$\n",
    "\n"
   ]
  },
  {
   "cell_type": "code",
   "execution_count": 73,
   "metadata": {
    "id": "I2hsemen_4yx",
    "tags": []
   },
   "outputs": [],
   "source": [
    "#Matrix \n",
    "\n",
    "A = np.array([[1,2,3], \n",
    "              [4,5,6], \n",
    "              [7,8,9] ])\n",
    "B = np.array([[10,20,30],\n",
    "              [11,12,13] ])"
   ]
  },
  {
   "cell_type": "code",
   "execution_count": 74,
   "metadata": {
    "colab": {
     "base_uri": "https://localhost:8080/"
    },
    "executionInfo": {
     "elapsed": 5,
     "status": "ok",
     "timestamp": 1664249636896,
     "user": {
      "displayName": "NIWAN WATTANAKITRUNGROJ",
      "userId": "04851413051165022286"
     },
     "user_tz": -420
    },
    "id": "Fy-MkHjGAdVo",
    "outputId": "e2472e7e-10fe-472b-f516-8efeac6bce08"
   },
   "outputs": [
    {
     "data": {
      "text/plain": [
       "(3, 3)"
      ]
     },
     "execution_count": 74,
     "metadata": {},
     "output_type": "execute_result"
    }
   ],
   "source": [
    "A.shape"
   ]
  },
  {
   "cell_type": "code",
   "execution_count": 75,
   "metadata": {
    "colab": {
     "base_uri": "https://localhost:8080/"
    },
    "executionInfo": {
     "elapsed": 482,
     "status": "ok",
     "timestamp": 1664249822985,
     "user": {
      "displayName": "NIWAN WATTANAKITRUNGROJ",
      "userId": "04851413051165022286"
     },
     "user_tz": -420
    },
    "id": "JLRRLkJtAcUi",
    "outputId": "e42b107d-8cd7-4794-e76d-9a6340e03ed8"
   },
   "outputs": [
    {
     "name": "stdout",
     "output_type": "stream",
     "text": [
      "Matrix A:\n",
      " [[1 2 3]\n",
      " [4 5 6]\n",
      " [7 8 9]]\n",
      "Matrix B:\n",
      " [[10 20 30]\n",
      " [11 12 13]]\n"
     ]
    }
   ],
   "source": [
    "print('Matrix A:\\n', A)\n",
    "print('Matrix B:\\n', B)"
   ]
  },
  {
   "cell_type": "code",
   "execution_count": 76,
   "metadata": {
    "colab": {
     "base_uri": "https://localhost:8080/"
    },
    "executionInfo": {
     "elapsed": 460,
     "status": "ok",
     "timestamp": 1664249935997,
     "user": {
      "displayName": "NIWAN WATTANAKITRUNGROJ",
      "userId": "04851413051165022286"
     },
     "user_tz": -420
    },
    "id": "8WYaIb56Ah-y",
    "outputId": "e8ede024-7a0c-42af-cab6-20bd16745176",
    "tags": []
   },
   "outputs": [
    {
     "data": {
      "text/plain": [
       "array([[300, 360, 420],\n",
       "       [150, 186, 222]])"
      ]
     },
     "execution_count": 76,
     "metadata": {},
     "output_type": "execute_result"
    }
   ],
   "source": [
    "#B*A\n",
    "B@A"
   ]
  },
  {
   "cell_type": "code",
   "execution_count": 77,
   "metadata": {
    "id": "lW6ZQyTrBVyp",
    "tags": []
   },
   "outputs": [
    {
     "data": {
      "text/plain": [
       "array([[140,  74],\n",
       "       [320, 182],\n",
       "       [500, 290]])"
      ]
     },
     "execution_count": 77,
     "metadata": {},
     "output_type": "execute_result"
    }
   ],
   "source": [
    "A@B.T"
   ]
  },
  {
   "cell_type": "code",
   "execution_count": 78,
   "metadata": {
    "colab": {
     "base_uri": "https://localhost:8080/"
    },
    "executionInfo": {
     "elapsed": 464,
     "status": "ok",
     "timestamp": 1664250326309,
     "user": {
      "displayName": "NIWAN WATTANAKITRUNGROJ",
      "userId": "04851413051165022286"
     },
     "user_tz": -420
    },
    "id": "6oNmRZxDCvXj",
    "outputId": "fac3e1ff-7517-4965-85d9-65091abcc362",
    "tags": []
   },
   "outputs": [
    {
     "data": {
      "text/plain": [
       "array([[5, 2, 1],\n",
       "       [4, 5, 6],\n",
       "       [7, 8, 9]])"
      ]
     },
     "execution_count": 78,
     "metadata": {},
     "output_type": "execute_result"
    }
   ],
   "source": [
    "A[0,:] = [5,2,1]\n",
    "A"
   ]
  },
  {
   "cell_type": "markdown",
   "metadata": {},
   "source": [
    "### Inverse and Determinant"
   ]
  },
  {
   "cell_type": "code",
   "execution_count": 80,
   "metadata": {
    "tags": []
   },
   "outputs": [
    {
     "name": "stdout",
     "output_type": "stream",
     "text": [
      "Inverse of A:\n",
      "[[ 0.5         1.66666667 -1.16666667]\n",
      " [-1.         -6.33333333  4.33333333]\n",
      " [ 0.5         4.33333333 -2.83333333]]\n",
      "Determinant of A: -6.0\n"
     ]
    }
   ],
   "source": [
    "import numpy as np\n",
    "\n",
    "A = np.array([[1, 2, 3],\n",
    "              [4, 5, 6],\n",
    "              [7, 8, 9]])\n",
    "\n",
    "A[0,:] = [5,2,1]\n",
    "\n",
    "# Calculate the inverse of matrix A\n",
    "inverse_A = np.linalg.inv(A)\n",
    "\n",
    "# Calculate the determinant of matrix A\n",
    "det_A = np.linalg.det(A)\n",
    "\n",
    "print(\"Inverse of A:\")\n",
    "print(inverse_A)\n",
    "\n",
    "print(\"Determinant of A:\", det_A)\n"
   ]
  },
  {
   "cell_type": "markdown",
   "metadata": {},
   "source": [
    "### Identity Matrix"
   ]
  },
  {
   "cell_type": "code",
   "execution_count": 81,
   "metadata": {
    "tags": []
   },
   "outputs": [
    {
     "name": "stdout",
     "output_type": "stream",
     "text": [
      "3x3 Identity Matrix:\n",
      "[[1. 0. 0.]\n",
      " [0. 1. 0.]\n",
      " [0. 0. 1.]]\n",
      "4x4 Identity Matrix:\n",
      "[[1. 0. 0. 0.]\n",
      " [0. 1. 0. 0.]\n",
      " [0. 0. 1. 0.]\n",
      " [0. 0. 0. 1.]]\n"
     ]
    }
   ],
   "source": [
    "import numpy as np\n",
    "\n",
    "# Create a 3x3 identity matrix\n",
    "identity_matrix_3x3 = np.identity(3)\n",
    "\n",
    "# Create a 4x4 identity matrix\n",
    "identity_matrix_4x4 = np.identity(4)\n",
    "# identity_matrix_4x4 = np.eye(4)\n",
    "\n",
    "print(\"3x3 Identity Matrix:\")\n",
    "print(identity_matrix_3x3)\n",
    "\n",
    "print(\"4x4 Identity Matrix:\")\n",
    "print(identity_matrix_4x4)\n"
   ]
  },
  {
   "cell_type": "markdown",
   "metadata": {},
   "source": [
    "### Solve Linear Eqs. Sys.\n",
    "\n",
    "$\\begin{align*}\n",
    "2x - 3y &= 5 \\\\\n",
    "x + 2y &= -3 \n",
    "\\end{align*}$"
   ]
  },
  {
   "cell_type": "code",
   "execution_count": 83,
   "metadata": {
    "tags": []
   },
   "outputs": [
    {
     "name": "stdout",
     "output_type": "stream",
     "text": [
      "Solution:\n",
      "x = 0.1428571428571429\n",
      "y = -1.5714285714285714\n"
     ]
    }
   ],
   "source": [
    "import numpy as np\n",
    "\n",
    "# Coefficients matrix\n",
    "A = np.array([[2, -3],\n",
    "              [1, 2]])\n",
    "\n",
    "# Constants vector\n",
    "B = np.array([5, -3])\n",
    "\n",
    "# Solve the system of equations\n",
    "inverse_A = np.linalg.inv(A)\n",
    "solution = inverse_A@B\n",
    "\n",
    "solution = np.linalg.solve(A, B)\n",
    "\n",
    "print(\"Solution:\")\n",
    "print(\"x =\", solution[0])\n",
    "print(\"y =\", solution[1])\n"
   ]
  },
  {
   "cell_type": "markdown",
   "metadata": {},
   "source": [
    "**Exercise 7.** Solve for \\(x\\), \\(y\\), and \\(z\\):\n",
    "\n",
    "$\\begin{align*}\n",
    "x + y + z &= 6 \\\\\n",
    "2y + 5z &= -4 \\\\\n",
    "2x + 5y - z &= 27\n",
    "\\end{align*}$"
   ]
  },
  {
   "cell_type": "code",
   "execution_count": 84,
   "metadata": {},
   "outputs": [
    {
     "name": "stdout",
     "output_type": "stream",
     "text": [
      "Solution:\n",
      "x = 5.0\n",
      "y = 3.0\n",
      "y = -2.0\n"
     ]
    }
   ],
   "source": [
    "import numpy as np\n",
    "\n",
    "A = np.array([[1,1,1],\n",
    "              [0,2,5],\n",
    "              [2,5,-1]])\n",
    "\n",
    "B = np.array([6,-4,27])\n",
    "\n",
    "# Solve the system of equations\n",
    "inverse_A = np.linalg.inv(A)\n",
    "solution = inverse_A@B\n",
    "\n",
    "solution = np.linalg.solve(A, B)\n",
    "\n",
    "print(\"Solution:\")\n",
    "print(\"x =\", solution[0])\n",
    "print(\"y =\", solution[1])\n",
    "print(\"y =\", solution[2])"
   ]
  },
  {
   "cell_type": "markdown",
   "metadata": {},
   "source": [
    "**Exercise 8**. Solve the system of equations\n",
    "\n",
    "$\\begin{align*}\n",
    "3x - y + 2z &= 1 \\\\\n",
    "2x + y - z &= 4 \\\\\n",
    "x + y + z &= 3 \\\\\n",
    "\\end{align*}$\n"
   ]
  },
  {
   "cell_type": "code",
   "execution_count": 85,
   "metadata": {},
   "outputs": [
    {
     "name": "stdout",
     "output_type": "stream",
     "text": [
      "Solution:\n",
      "x = 1.0000000000000002\n",
      "y = 2.0\n",
      "y = -1.884014829666932e-16\n"
     ]
    }
   ],
   "source": [
    "import numpy as np\n",
    "\n",
    "A = np.array([[3,-1,2],\n",
    "              [2,1,-1],\n",
    "              [1,1,1]])\n",
    "\n",
    "B = np.array([1,4,3])\n",
    "\n",
    "# Solve the system of equations\n",
    "inverse_A = np.linalg.inv(A)\n",
    "solution = inverse_A@B\n",
    "\n",
    "solution = np.linalg.solve(A, B)\n",
    "\n",
    "print(\"Solution:\")\n",
    "print(\"x =\", solution[0])\n",
    "print(\"y =\", solution[1])\n",
    "print(\"y =\", solution[2])"
   ]
  },
  {
   "cell_type": "markdown",
   "metadata": {},
   "source": [
    "**Exercise 10.** Find inverse of coefficient matrix and solve the following two equation systems: \n",
    "\n",
    "Solve for \\( x \\), \\( y \\), \\( z \\), and \\( w \\):\n",
    "\n",
    "$\\begin{align*}\n",
    "x + y + z + w &= 10 \\\\\n",
    "2x - y + 2z - w &= 3 \\\\\n",
    "x + 2y - 3z + w &= 4 \\\\\n",
    "3x - y + z - 2w &= 2 \\\\\n",
    "\\end{align*}$\n",
    "\n",
    "Solve for \\( x \\), \\( y \\), \\( z \\), and \\( w \\):\n",
    "\n",
    "$\\begin{align*}\n",
    "x + y + z + w &= 5 \\\\\n",
    "2x - y + 2z - w &= 1 \\\\\n",
    "x + 2y - 3z + w &= 2 \\\\\n",
    "3x - y + z - 2w &= 0 \\\\\n",
    "\\end{align*}$"
   ]
  },
  {
   "cell_type": "code",
   "execution_count": 87,
   "metadata": {},
   "outputs": [
    {
     "name": "stdout",
     "output_type": "stream",
     "text": [
      "SolutionA:\n",
      "xA = 1.166666666666667\n",
      "yA = 6.666666666666666\n",
      "zA = 3.166666666666667\n",
      "SolutionB:\n",
      "xB = 0.5000000000000002\n",
      "yB = 3.0000000000000004\n",
      "zB = 1.5000000000000004\n"
     ]
    }
   ],
   "source": [
    "import numpy as np\n",
    "\n",
    "A = np.array([[1,1,1,1],\n",
    "              [2,-1,2,-1],\n",
    "              [1,2,-3,1],[3,-1,1,-2]])\n",
    "\n",
    "B = np.array([10,3,4,2])\n",
    "C = np.array([5,1,2,0])\n",
    "\n",
    "# Solve the system of equations\n",
    "inverse_A = np.linalg.inv(A)\n",
    "solutionA = inverse_A@B\n",
    "solutionA = np.linalg.solve(A, B)\n",
    "\n",
    "solutionB = inverse_A@C\n",
    "solotionB = np.linalg.solve(A,C)\n",
    "\n",
    "print(\"SolutionA:\")\n",
    "print(\"xA =\", solutionA[0])\n",
    "print(\"yA =\", solutionA[1])\n",
    "print(\"zA =\", solutionA[2])\n",
    "\n",
    "print(\"SolutionB:\")\n",
    "print(\"xB =\", solutionB[0])\n",
    "print(\"yB =\", solutionB[1])\n",
    "print(\"zB =\", solutionB[2])"
   ]
  },
  {
   "cell_type": "markdown",
   "metadata": {
    "id": "_eWnT1G2J4El"
   },
   "source": [
    "## Eigenvector & Eigenvalue"
   ]
  },
  {
   "cell_type": "code",
   "execution_count": 88,
   "metadata": {
    "tags": []
   },
   "outputs": [
    {
     "name": "stdout",
     "output_type": "stream",
     "text": [
      "Eigenvalues: [-3.  2.]\n",
      "Eigenvectors:\n",
      "[[-0.83205029 -0.70710678]\n",
      " [ 0.5547002  -0.70710678]]\n"
     ]
    }
   ],
   "source": [
    "import numpy as np\n",
    "\n",
    "# Define the matrix A\n",
    "# A = np.array([[3, 0],  #no inverse\n",
    "#               [8, -1]])\n",
    "\n",
    "A = np.array([[-1, 3],\n",
    "              [2, 0]])\n",
    "\n",
    "# Calculate eigenvalues and eigenvectors\n",
    "eigenvalues, eigenvectors = np.linalg.eig(A)\n",
    "\n",
    "print(\"Eigenvalues:\", eigenvalues)\n",
    "print(\"Eigenvectors:\")\n",
    "print(eigenvectors)\n"
   ]
  },
  {
   "cell_type": "code",
   "execution_count": 89,
   "metadata": {
    "tags": []
   },
   "outputs": [
    {
     "data": {
      "text/plain": [
       "0.9999999999999999"
      ]
     },
     "execution_count": 89,
     "metadata": {},
     "output_type": "execute_result"
    }
   ],
   "source": [
    " np.linalg.norm(eigenvectors[:,1])"
   ]
  },
  {
   "cell_type": "code",
   "execution_count": 6,
   "metadata": {
    "tags": []
   },
   "outputs": [
    {
     "name": "stdout",
     "output_type": "stream",
     "text": [
      "Is reconstructed matrix close to original matrix A: True\n",
      "A:\n",
      " [[-1  3]\n",
      " [ 2  0]]\n",
      "Reconstructed_matrix:\n",
      " [[-1.00000000e+00  3.00000000e+00]\n",
      " [ 2.00000000e+00 -7.41483138e-17]]\n"
     ]
    }
   ],
   "source": [
    "import numpy as np\n",
    "\n",
    "# Original matrix A\n",
    "A = np.array([[-1, 3],\n",
    "              [2, 0]])\n",
    "\n",
    "# Calculate eigenvalues and eigenvectors\n",
    "eigenvalues, eigenvectors = np.linalg.eig(A)\n",
    "\n",
    "# Diagonal matrix L\n",
    "L = np.diag(eigenvalues)\n",
    "\n",
    "# Reconstructed matrix\n",
    "reconstructed_matrix = eigenvectors @ L @ np.linalg.inv(eigenvectors)\n",
    "\n",
    "# Check if the reconstructed matrix is approximately equal to the original matrix A\n",
    "print(\"Is reconstructed matrix close to original matrix A:\",\n",
    "      np.allclose(A, reconstructed_matrix))\n",
    "\n",
    "print(\"A:\\n\", A)\n",
    "print(\"Reconstructed_matrix:\\n\", reconstructed_matrix)"
   ]
  },
  {
   "cell_type": "code",
   "execution_count": null,
   "metadata": {
    "id": "O1MoKJfWLnYS"
   },
   "outputs": [],
   "source": []
  },
  {
   "cell_type": "markdown",
   "metadata": {
    "id": "qjKJPTI8NTMb"
   },
   "source": [
    "## Eigenface"
   ]
  },
  {
   "cell_type": "code",
   "execution_count": 2,
   "metadata": {
    "tags": []
   },
   "outputs": [
    {
     "name": "stdout",
     "output_type": "stream",
     "text": [
      "downloading Olivetti faces from https://ndownloader.figshare.com/files/5976027 to C:\\Users\\DELL\\scikit_learn_data\n"
     ]
    },
    {
     "ename": "HTTPError",
     "evalue": "HTTP Error 403: Forbidden",
     "output_type": "error",
     "traceback": [
      "\u001b[1;31m---------------------------------------------------------------------------\u001b[0m",
      "\u001b[1;31mHTTPError\u001b[0m                                 Traceback (most recent call last)",
      "Cell \u001b[1;32mIn[2], line 7\u001b[0m\n\u001b[0;32m      3\u001b[0m \u001b[39mfrom\u001b[39;00m \u001b[39msklearn\u001b[39;00m\u001b[39m.\u001b[39;00m\u001b[39mdatasets\u001b[39;00m \u001b[39mimport\u001b[39;00m fetch_olivetti_faces\n\u001b[0;32m      4\u001b[0m \u001b[39m# from scipy.linalg import eig\u001b[39;00m\n\u001b[0;32m      5\u001b[0m \n\u001b[0;32m      6\u001b[0m \u001b[39m# Load the Olivetti Faces dataset\u001b[39;00m\n\u001b[1;32m----> 7\u001b[0m faces_data \u001b[39m=\u001b[39m fetch_olivetti_faces(shuffle\u001b[39m=\u001b[39;49m\u001b[39mTrue\u001b[39;49;00m, random_state\u001b[39m=\u001b[39;49m\u001b[39m42\u001b[39;49m)\n\u001b[0;32m      9\u001b[0m \u001b[39m# Extract the image data from the dataset\u001b[39;00m\n\u001b[0;32m     10\u001b[0m X \u001b[39m=\u001b[39m faces_data\u001b[39m.\u001b[39mdata\n",
      "File \u001b[1;32mc:\\Users\\DELL\\AppData\\Local\\Programs\\Python\\Python311\\Lib\\site-packages\\sklearn\\utils\\_param_validation.py:211\u001b[0m, in \u001b[0;36mvalidate_params.<locals>.decorator.<locals>.wrapper\u001b[1;34m(*args, **kwargs)\u001b[0m\n\u001b[0;32m    205\u001b[0m \u001b[39mtry\u001b[39;00m:\n\u001b[0;32m    206\u001b[0m     \u001b[39mwith\u001b[39;00m config_context(\n\u001b[0;32m    207\u001b[0m         skip_parameter_validation\u001b[39m=\u001b[39m(\n\u001b[0;32m    208\u001b[0m             prefer_skip_nested_validation \u001b[39mor\u001b[39;00m global_skip_validation\n\u001b[0;32m    209\u001b[0m         )\n\u001b[0;32m    210\u001b[0m     ):\n\u001b[1;32m--> 211\u001b[0m         \u001b[39mreturn\u001b[39;00m func(\u001b[39m*\u001b[39;49margs, \u001b[39m*\u001b[39;49m\u001b[39m*\u001b[39;49mkwargs)\n\u001b[0;32m    212\u001b[0m \u001b[39mexcept\u001b[39;00m InvalidParameterError \u001b[39mas\u001b[39;00m e:\n\u001b[0;32m    213\u001b[0m     \u001b[39m# When the function is just a wrapper around an estimator, we allow\u001b[39;00m\n\u001b[0;32m    214\u001b[0m     \u001b[39m# the function to delegate validation to the estimator, but we replace\u001b[39;00m\n\u001b[0;32m    215\u001b[0m     \u001b[39m# the name of the estimator by the name of the function in the error\u001b[39;00m\n\u001b[0;32m    216\u001b[0m     \u001b[39m# message to avoid confusion.\u001b[39;00m\n\u001b[0;32m    217\u001b[0m     msg \u001b[39m=\u001b[39m re\u001b[39m.\u001b[39msub(\n\u001b[0;32m    218\u001b[0m         \u001b[39mr\u001b[39m\u001b[39m\"\u001b[39m\u001b[39mparameter of \u001b[39m\u001b[39m\\\u001b[39m\u001b[39mw+ must be\u001b[39m\u001b[39m\"\u001b[39m,\n\u001b[0;32m    219\u001b[0m         \u001b[39mf\u001b[39m\u001b[39m\"\u001b[39m\u001b[39mparameter of \u001b[39m\u001b[39m{\u001b[39;00mfunc\u001b[39m.\u001b[39m\u001b[39m__qualname__\u001b[39m\u001b[39m}\u001b[39;00m\u001b[39m must be\u001b[39m\u001b[39m\"\u001b[39m,\n\u001b[0;32m    220\u001b[0m         \u001b[39mstr\u001b[39m(e),\n\u001b[0;32m    221\u001b[0m     )\n",
      "File \u001b[1;32mc:\\Users\\DELL\\AppData\\Local\\Programs\\Python\\Python311\\Lib\\site-packages\\sklearn\\datasets\\_olivetti_faces.py:125\u001b[0m, in \u001b[0;36mfetch_olivetti_faces\u001b[1;34m(data_home, shuffle, random_state, download_if_missing, return_X_y)\u001b[0m\n\u001b[0;32m    122\u001b[0m     \u001b[39mraise\u001b[39;00m \u001b[39mOSError\u001b[39;00m(\u001b[39m\"\u001b[39m\u001b[39mData not found and `download_if_missing` is False\u001b[39m\u001b[39m\"\u001b[39m)\n\u001b[0;32m    124\u001b[0m \u001b[39mprint\u001b[39m(\u001b[39m\"\u001b[39m\u001b[39mdownloading Olivetti faces from \u001b[39m\u001b[39m%s\u001b[39;00m\u001b[39m to \u001b[39m\u001b[39m%s\u001b[39;00m\u001b[39m\"\u001b[39m \u001b[39m%\u001b[39m (FACES\u001b[39m.\u001b[39murl, data_home))\n\u001b[1;32m--> 125\u001b[0m mat_path \u001b[39m=\u001b[39m _fetch_remote(FACES, dirname\u001b[39m=\u001b[39;49mdata_home)\n\u001b[0;32m    126\u001b[0m mfile \u001b[39m=\u001b[39m loadmat(file_name\u001b[39m=\u001b[39mmat_path)\n\u001b[0;32m    127\u001b[0m \u001b[39m# delete raw .mat data\u001b[39;00m\n",
      "File \u001b[1;32mc:\\Users\\DELL\\AppData\\Local\\Programs\\Python\\Python311\\Lib\\site-packages\\sklearn\\datasets\\_base.py:1388\u001b[0m, in \u001b[0;36m_fetch_remote\u001b[1;34m(remote, dirname)\u001b[0m\n\u001b[0;32m   1366\u001b[0m \u001b[39m\u001b[39m\u001b[39m\"\"\"Helper function to download a remote dataset into path\u001b[39;00m\n\u001b[0;32m   1367\u001b[0m \n\u001b[0;32m   1368\u001b[0m \u001b[39mFetch a dataset pointed by remote's url, save into path using remote's\u001b[39;00m\n\u001b[1;32m   (...)\u001b[0m\n\u001b[0;32m   1384\u001b[0m \u001b[39m    Full path of the created file.\u001b[39;00m\n\u001b[0;32m   1385\u001b[0m \u001b[39m\"\"\"\u001b[39;00m\n\u001b[0;32m   1387\u001b[0m file_path \u001b[39m=\u001b[39m remote\u001b[39m.\u001b[39mfilename \u001b[39mif\u001b[39;00m dirname \u001b[39mis\u001b[39;00m \u001b[39mNone\u001b[39;00m \u001b[39melse\u001b[39;00m join(dirname, remote\u001b[39m.\u001b[39mfilename)\n\u001b[1;32m-> 1388\u001b[0m urlretrieve(remote\u001b[39m.\u001b[39;49murl, file_path)\n\u001b[0;32m   1389\u001b[0m checksum \u001b[39m=\u001b[39m _sha256(file_path)\n\u001b[0;32m   1390\u001b[0m \u001b[39mif\u001b[39;00m remote\u001b[39m.\u001b[39mchecksum \u001b[39m!=\u001b[39m checksum:\n",
      "File \u001b[1;32mc:\\Users\\DELL\\AppData\\Local\\Programs\\Python\\Python311\\Lib\\urllib\\request.py:241\u001b[0m, in \u001b[0;36murlretrieve\u001b[1;34m(url, filename, reporthook, data)\u001b[0m\n\u001b[0;32m    224\u001b[0m \u001b[39m\u001b[39m\u001b[39m\"\"\"\u001b[39;00m\n\u001b[0;32m    225\u001b[0m \u001b[39mRetrieve a URL into a temporary location on disk.\u001b[39;00m\n\u001b[0;32m    226\u001b[0m \n\u001b[1;32m   (...)\u001b[0m\n\u001b[0;32m    237\u001b[0m \u001b[39mdata file as well as the resulting HTTPMessage object.\u001b[39;00m\n\u001b[0;32m    238\u001b[0m \u001b[39m\"\"\"\u001b[39;00m\n\u001b[0;32m    239\u001b[0m url_type, path \u001b[39m=\u001b[39m _splittype(url)\n\u001b[1;32m--> 241\u001b[0m \u001b[39mwith\u001b[39;00m contextlib\u001b[39m.\u001b[39mclosing(urlopen(url, data)) \u001b[39mas\u001b[39;00m fp:\n\u001b[0;32m    242\u001b[0m     headers \u001b[39m=\u001b[39m fp\u001b[39m.\u001b[39minfo()\n\u001b[0;32m    244\u001b[0m     \u001b[39m# Just return the local path and the \"headers\" for file://\u001b[39;00m\n\u001b[0;32m    245\u001b[0m     \u001b[39m# URLs. No sense in performing a copy unless requested.\u001b[39;00m\n",
      "File \u001b[1;32mc:\\Users\\DELL\\AppData\\Local\\Programs\\Python\\Python311\\Lib\\urllib\\request.py:216\u001b[0m, in \u001b[0;36murlopen\u001b[1;34m(url, data, timeout, cafile, capath, cadefault, context)\u001b[0m\n\u001b[0;32m    214\u001b[0m \u001b[39melse\u001b[39;00m:\n\u001b[0;32m    215\u001b[0m     opener \u001b[39m=\u001b[39m _opener\n\u001b[1;32m--> 216\u001b[0m \u001b[39mreturn\u001b[39;00m opener\u001b[39m.\u001b[39;49mopen(url, data, timeout)\n",
      "File \u001b[1;32mc:\\Users\\DELL\\AppData\\Local\\Programs\\Python\\Python311\\Lib\\urllib\\request.py:525\u001b[0m, in \u001b[0;36mOpenerDirector.open\u001b[1;34m(self, fullurl, data, timeout)\u001b[0m\n\u001b[0;32m    523\u001b[0m \u001b[39mfor\u001b[39;00m processor \u001b[39min\u001b[39;00m \u001b[39mself\u001b[39m\u001b[39m.\u001b[39mprocess_response\u001b[39m.\u001b[39mget(protocol, []):\n\u001b[0;32m    524\u001b[0m     meth \u001b[39m=\u001b[39m \u001b[39mgetattr\u001b[39m(processor, meth_name)\n\u001b[1;32m--> 525\u001b[0m     response \u001b[39m=\u001b[39m meth(req, response)\n\u001b[0;32m    527\u001b[0m \u001b[39mreturn\u001b[39;00m response\n",
      "File \u001b[1;32mc:\\Users\\DELL\\AppData\\Local\\Programs\\Python\\Python311\\Lib\\urllib\\request.py:634\u001b[0m, in \u001b[0;36mHTTPErrorProcessor.http_response\u001b[1;34m(self, request, response)\u001b[0m\n\u001b[0;32m    631\u001b[0m \u001b[39m# According to RFC 2616, \"2xx\" code indicates that the client's\u001b[39;00m\n\u001b[0;32m    632\u001b[0m \u001b[39m# request was successfully received, understood, and accepted.\u001b[39;00m\n\u001b[0;32m    633\u001b[0m \u001b[39mif\u001b[39;00m \u001b[39mnot\u001b[39;00m (\u001b[39m200\u001b[39m \u001b[39m<\u001b[39m\u001b[39m=\u001b[39m code \u001b[39m<\u001b[39m \u001b[39m300\u001b[39m):\n\u001b[1;32m--> 634\u001b[0m     response \u001b[39m=\u001b[39m \u001b[39mself\u001b[39;49m\u001b[39m.\u001b[39;49mparent\u001b[39m.\u001b[39;49merror(\n\u001b[0;32m    635\u001b[0m         \u001b[39m'\u001b[39;49m\u001b[39mhttp\u001b[39;49m\u001b[39m'\u001b[39;49m, request, response, code, msg, hdrs)\n\u001b[0;32m    637\u001b[0m \u001b[39mreturn\u001b[39;00m response\n",
      "File \u001b[1;32mc:\\Users\\DELL\\AppData\\Local\\Programs\\Python\\Python311\\Lib\\urllib\\request.py:563\u001b[0m, in \u001b[0;36mOpenerDirector.error\u001b[1;34m(self, proto, *args)\u001b[0m\n\u001b[0;32m    561\u001b[0m \u001b[39mif\u001b[39;00m http_err:\n\u001b[0;32m    562\u001b[0m     args \u001b[39m=\u001b[39m (\u001b[39mdict\u001b[39m, \u001b[39m'\u001b[39m\u001b[39mdefault\u001b[39m\u001b[39m'\u001b[39m, \u001b[39m'\u001b[39m\u001b[39mhttp_error_default\u001b[39m\u001b[39m'\u001b[39m) \u001b[39m+\u001b[39m orig_args\n\u001b[1;32m--> 563\u001b[0m     \u001b[39mreturn\u001b[39;00m \u001b[39mself\u001b[39;49m\u001b[39m.\u001b[39;49m_call_chain(\u001b[39m*\u001b[39;49margs)\n",
      "File \u001b[1;32mc:\\Users\\DELL\\AppData\\Local\\Programs\\Python\\Python311\\Lib\\urllib\\request.py:496\u001b[0m, in \u001b[0;36mOpenerDirector._call_chain\u001b[1;34m(self, chain, kind, meth_name, *args)\u001b[0m\n\u001b[0;32m    494\u001b[0m \u001b[39mfor\u001b[39;00m handler \u001b[39min\u001b[39;00m handlers:\n\u001b[0;32m    495\u001b[0m     func \u001b[39m=\u001b[39m \u001b[39mgetattr\u001b[39m(handler, meth_name)\n\u001b[1;32m--> 496\u001b[0m     result \u001b[39m=\u001b[39m func(\u001b[39m*\u001b[39;49margs)\n\u001b[0;32m    497\u001b[0m     \u001b[39mif\u001b[39;00m result \u001b[39mis\u001b[39;00m \u001b[39mnot\u001b[39;00m \u001b[39mNone\u001b[39;00m:\n\u001b[0;32m    498\u001b[0m         \u001b[39mreturn\u001b[39;00m result\n",
      "File \u001b[1;32mc:\\Users\\DELL\\AppData\\Local\\Programs\\Python\\Python311\\Lib\\urllib\\request.py:643\u001b[0m, in \u001b[0;36mHTTPDefaultErrorHandler.http_error_default\u001b[1;34m(self, req, fp, code, msg, hdrs)\u001b[0m\n\u001b[0;32m    642\u001b[0m \u001b[39mdef\u001b[39;00m \u001b[39mhttp_error_default\u001b[39m(\u001b[39mself\u001b[39m, req, fp, code, msg, hdrs):\n\u001b[1;32m--> 643\u001b[0m     \u001b[39mraise\u001b[39;00m HTTPError(req\u001b[39m.\u001b[39mfull_url, code, msg, hdrs, fp)\n",
      "\u001b[1;31mHTTPError\u001b[0m: HTTP Error 403: Forbidden"
     ]
    }
   ],
   "source": [
    "import numpy as np\n",
    "import matplotlib.pyplot as plt\n",
    "from sklearn.datasets import fetch_olivetti_faces\n",
    "# from scipy.linalg import eig\n",
    "\n",
    "# Load the Olivetti Faces dataset\n",
    "faces_data = fetch_olivetti_faces(shuffle=True, random_state=42)\n",
    "\n",
    "# Extract the image data from the dataset\n",
    "X = faces_data.data"
   ]
  },
  {
   "cell_type": "code",
   "execution_count": 4,
   "metadata": {
    "tags": []
   },
   "outputs": [
    {
     "ename": "NameError",
     "evalue": "name 'X' is not defined",
     "output_type": "error",
     "traceback": [
      "\u001b[1;31m---------------------------------------------------------------------------\u001b[0m",
      "\u001b[1;31mNameError\u001b[0m                                 Traceback (most recent call last)",
      "Cell \u001b[1;32mIn[4], line 1\u001b[0m\n\u001b[1;32m----> 1\u001b[0m X\u001b[39m.\u001b[39mshape\n",
      "\u001b[1;31mNameError\u001b[0m: name 'X' is not defined"
     ]
    }
   ],
   "source": [
    "X.shape"
   ]
  },
  {
   "cell_type": "code",
   "execution_count": 5,
   "metadata": {
    "tags": []
   },
   "outputs": [
    {
     "ename": "NameError",
     "evalue": "name 'X' is not defined",
     "output_type": "error",
     "traceback": [
      "\u001b[1;31m---------------------------------------------------------------------------\u001b[0m",
      "\u001b[1;31mNameError\u001b[0m                                 Traceback (most recent call last)",
      "Cell \u001b[1;32mIn[5], line 1\u001b[0m\n\u001b[1;32m----> 1\u001b[0m plt\u001b[39m.\u001b[39mimshow(X[\u001b[39m0\u001b[39m]\u001b[39m.\u001b[39mreshape(\u001b[39m64\u001b[39m, \u001b[39m64\u001b[39m), cmap\u001b[39m=\u001b[39m\u001b[39m'\u001b[39m\u001b[39mgray\u001b[39m\u001b[39m'\u001b[39m)\n",
      "\u001b[1;31mNameError\u001b[0m: name 'X' is not defined"
     ]
    }
   ],
   "source": [
    "\n",
    "plt.imshow(X[0].reshape(64, 64), cmap='gray')\n"
   ]
  },
  {
   "cell_type": "code",
   "execution_count": 5,
   "metadata": {
    "tags": []
   },
   "outputs": [
    {
     "ename": "NameError",
     "evalue": "name 'X' is not defined",
     "output_type": "error",
     "traceback": [
      "\u001b[1;31m---------------------------------------------------------------------------\u001b[0m",
      "\u001b[1;31mNameError\u001b[0m                                 Traceback (most recent call last)",
      "Cell \u001b[1;32mIn[5], line 2\u001b[0m\n\u001b[0;32m      1\u001b[0m \u001b[39m# Calculate the covariance matrix\u001b[39;00m\n\u001b[1;32m----> 2\u001b[0m cov_matrix \u001b[39m=\u001b[39m np\u001b[39m.\u001b[39mcov(X\u001b[39m.\u001b[39mT)  \u001b[39m# Transpose X to get variables as rows and observations as columns\u001b[39;00m\n",
      "\u001b[1;31mNameError\u001b[0m: name 'X' is not defined"
     ]
    }
   ],
   "source": [
    "# Calculate the covariance matrix\n",
    "cov_matrix = np.cov(X.T)  # Transpose X to get variables as rows and observations as columns"
   ]
  },
  {
   "cell_type": "code",
   "execution_count": 4,
   "metadata": {
    "tags": []
   },
   "outputs": [
    {
     "ename": "NameError",
     "evalue": "name 'cov_matrix' is not defined",
     "output_type": "error",
     "traceback": [
      "\u001b[1;31m---------------------------------------------------------------------------\u001b[0m",
      "\u001b[1;31mNameError\u001b[0m                                 Traceback (most recent call last)",
      "Cell \u001b[1;32mIn[4], line 1\u001b[0m\n\u001b[1;32m----> 1\u001b[0m cov_matrix\u001b[39m.\u001b[39mshape\n",
      "\u001b[1;31mNameError\u001b[0m: name 'cov_matrix' is not defined"
     ]
    }
   ],
   "source": [
    "cov_matrix.shape"
   ]
  },
  {
   "cell_type": "code",
   "execution_count": 3,
   "metadata": {
    "tags": []
   },
   "outputs": [
    {
     "ename": "NameError",
     "evalue": "name 'cov_matrix' is not defined",
     "output_type": "error",
     "traceback": [
      "\u001b[1;31m---------------------------------------------------------------------------\u001b[0m",
      "\u001b[1;31mNameError\u001b[0m                                 Traceback (most recent call last)",
      "Cell \u001b[1;32mIn[3], line 3\u001b[0m\n\u001b[0;32m      1\u001b[0m \u001b[39m# Find the eigenvalues and eigenvectors\u001b[39;00m\n\u001b[0;32m      2\u001b[0m \u001b[39m# eigenvalues, eigenvectors = eig(cov_matrix)\u001b[39;00m\n\u001b[1;32m----> 3\u001b[0m eigenvalues, eigenvectors \u001b[39m=\u001b[39m np\u001b[39m.\u001b[39mlinalg\u001b[39m.\u001b[39meig(cov_matrix)\n",
      "\u001b[1;31mNameError\u001b[0m: name 'cov_matrix' is not defined"
     ]
    }
   ],
   "source": [
    "# Find the eigenvalues and eigenvectors\n",
    "# eigenvalues, eigenvectors = eig(cov_matrix)\n",
    "eigenvalues, eigenvectors = np.linalg.eig(cov_matrix)\n"
   ]
  },
  {
   "cell_type": "code",
   "execution_count": 2,
   "metadata": {
    "tags": []
   },
   "outputs": [
    {
     "ename": "NameError",
     "evalue": "name 'eigenvalues' is not defined",
     "output_type": "error",
     "traceback": [
      "\u001b[1;31m---------------------------------------------------------------------------\u001b[0m",
      "\u001b[1;31mNameError\u001b[0m                                 Traceback (most recent call last)",
      "Cell \u001b[1;32mIn[2], line 1\u001b[0m\n\u001b[1;32m----> 1\u001b[0m eigenvalues[:\u001b[39m5\u001b[39m]\n",
      "\u001b[1;31mNameError\u001b[0m: name 'eigenvalues' is not defined"
     ]
    }
   ],
   "source": [
    "eigenvalues[:5]"
   ]
  },
  {
   "cell_type": "code",
   "execution_count": null,
   "metadata": {
    "tags": []
   },
   "outputs": [],
   "source": [
    "# Use the top 5 eigenvalues and eigenvectors to transform the data\n",
    "num_eigenfaces = 5\n",
    "eigenfaces = eigenvectors[:, :num_eigenfaces]\n",
    "transformed_data = np.dot(X, eigenfaces)\n"
   ]
  },
  {
   "cell_type": "code",
   "execution_count": null,
   "metadata": {
    "tags": []
   },
   "outputs": [],
   "source": [
    "eigenfaces.shape"
   ]
  },
  {
   "cell_type": "code",
   "execution_count": null,
   "metadata": {
    "tags": []
   },
   "outputs": [],
   "source": [
    "transformed_data.shape"
   ]
  },
  {
   "cell_type": "code",
   "execution_count": null,
   "metadata": {
    "tags": []
   },
   "outputs": [],
   "source": [
    "# Display the first original face\n",
    "plt.figure(figsize=(8, 4))\n",
    "plt.subplot(1, 2, 1)\n",
    "original_face = X[0].reshape(64, 64)\n",
    "plt.imshow(original_face, cmap='gray')\n",
    "plt.title(\"Original Face\")\n",
    "\n",
    "# Display the first face transformed by the top 5 eigenfaces\n",
    "reconstructed_face = np.dot(transformed_data[0], eigenfaces.T)\n",
    "reconstructed_face = reconstructed_face + np.mean(X, axis=0)  # Add back the mean\n",
    "reconstructed_face = np.real(reconstructed_face)  # Convert to real numbers\n",
    "plt.subplot(1, 2, 2)\n",
    "plt.imshow(reconstructed_face.reshape(64, 64), cmap='gray')\n",
    "plt.title(\"Transformed by Top 5 Eigenfaces\")\n",
    "\n",
    "plt.show()"
   ]
  },
  {
   "cell_type": "markdown",
   "metadata": {},
   "source": [
    "*Tranformed 2D data*"
   ]
  },
  {
   "cell_type": "code",
   "execution_count": 6,
   "metadata": {
    "tags": []
   },
   "outputs": [
    {
     "ename": "NameError",
     "evalue": "name 'eigenvectors' is not defined",
     "output_type": "error",
     "traceback": [
      "\u001b[1;31m---------------------------------------------------------------------------\u001b[0m",
      "\u001b[1;31mNameError\u001b[0m                                 Traceback (most recent call last)",
      "Cell \u001b[1;32mIn[6], line 3\u001b[0m\n\u001b[0;32m      1\u001b[0m \u001b[39m# Use the top 2 eigenvalues/eigenvectors to transform the data\u001b[39;00m\n\u001b[0;32m      2\u001b[0m num_components \u001b[39m=\u001b[39m \u001b[39m2\u001b[39m\n\u001b[1;32m----> 3\u001b[0m top_eigenvectors \u001b[39m=\u001b[39m eigenvectors[:, :num_components]\n\u001b[0;32m      4\u001b[0m transformed_data \u001b[39m=\u001b[39m np\u001b[39m.\u001b[39mdot(X, top_eigenvectors)\n\u001b[0;32m      6\u001b[0m \u001b[39m#  Plot the 2D data\u001b[39;00m\n",
      "\u001b[1;31mNameError\u001b[0m: name 'eigenvectors' is not defined"
     ]
    }
   ],
   "source": [
    "# Use the top 2 eigenvalues/eigenvectors to transform the data\n",
    "num_components = 2\n",
    "top_eigenvectors = eigenvectors[:, :num_components]\n",
    "transformed_data = np.dot(X, top_eigenvectors)\n",
    "\n",
    "#  Plot the 2D data\n",
    "plt.figure(figsize=(10, 6))\n",
    "plt.scatter(transformed_data[:, 0], transformed_data[:, 1], c=faces_data.target, cmap='viridis')\n",
    "plt.colorbar(label='Face ID')\n",
    "plt.xlabel('Principal Component 1')\n",
    "plt.ylabel('Principal Component 2')\n",
    "plt.title('PCA: 2D Visualization of Olivetti Faces')\n",
    "\n",
    "# Add labels for each point with their target values\n",
    "for i, txt in enumerate(faces_data.target):\n",
    "    plt.text(np.real(transformed_data[i, 0]), np.real(transformed_data[i, 1]), str(txt), fontsize=10)\n",
    "\n",
    "\n",
    "plt.show()"
   ]
  },
  {
   "cell_type": "code",
   "execution_count": null,
   "metadata": {
    "id": "gnVih-PTQgTI"
   },
   "outputs": [],
   "source": []
  },
  {
   "cell_type": "code",
   "execution_count": null,
   "metadata": {
    "executionInfo": {
     "elapsed": 8,
     "status": "aborted",
     "timestamp": 1664431869172,
     "user": {
      "displayName": "NIWAN WATTANAKITRUNGROJ",
      "userId": "04851413051165022286"
     },
     "user_tz": -420
    },
    "id": "n4m5W069YDX2"
   },
   "outputs": [],
   "source": []
  }
 ],
 "metadata": {
  "colab": {
   "authorship_tag": "ABX9TyNE6NBrw5yoSny5yY7+looG",
   "provenance": []
  },
  "kernelspec": {
   "display_name": "Python 3 (ipykernel)",
   "language": "python",
   "name": "python3"
  },
  "language_info": {
   "codemirror_mode": {
    "name": "ipython",
    "version": 3
   },
   "file_extension": ".py",
   "mimetype": "text/x-python",
   "name": "python",
   "nbconvert_exporter": "python",
   "pygments_lexer": "ipython3",
   "version": "3.11.5"
  }
 },
 "nbformat": 4,
 "nbformat_minor": 4
}
